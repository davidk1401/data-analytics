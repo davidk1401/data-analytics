{
 "cells": [
  {
   "cell_type": "code",
   "execution_count": 5,
   "id": "761f8c07",
   "metadata": {},
   "outputs": [],
   "source": [
    "## Eventually, I'd like to create a program which automatically pulls data from \n",
    "## the Japanese Ministry of Health, Labor and Welfare and imports it into a dashboard.\n",
    "\n",
    "import pandas as pd\n",
    "import ssl\n",
    "\n",
    "## Data Sources\n",
    "ssl._create_default_https_context = ssl._create_unverified_context\n",
    "dataCases = 'http://covid19.mhlw.go.jp/public/opendata/newly_confirmed_cases_daily.csv'\n",
    "dataSevere = 'http://covid19.mhlw.go.jp/public/opendata/severe_cases_daily.csv'\n",
    "dataDeaths = 'http://covid19.mhlw.go.jp/public/opendata/deaths_cumulative_daily.csv'\n",
    "\n",
    "## Create and Join Data Frames\n",
    "dfCases = pd.read_csv(dataCases)[['Date','ALL']]\n",
    "dfCases.rename(columns = {'ALL':'Cases'}, inplace = True)\n",
    "\n",
    "dfSevere = pd.read_csv(dataSevere)[['Date','ALL']]\n",
    "dfSevere.rename(columns = {'ALL':'Severe'}, inplace = True)\n",
    "\n",
    "dfDeaths = pd.read_csv(dataDeaths)[['Date','ALL']]\n",
    "dfDeaths.rename(columns = {'ALL':'Deaths'}, inplace = True)\n",
    "\n",
    "df = dfCases.join(dfSevere.set_index('Date'), on=\"Date\", how='inner')\n",
    "df2 = df.join(dfDeaths.set_index('Date'), on=\"Date\", how='inner')\n",
    "\n"
   ]
  },
  {
   "cell_type": "code",
   "execution_count": 8,
   "id": "d8542a19",
   "metadata": {},
   "outputs": [
    {
     "name": "stdout",
     "output_type": "stream",
     "text": [
      "          Date  Cases  Severe  Deaths\n",
      "114   2020/5/9    108     267     613\n",
      "115  2020/5/10     66     249     621\n",
      "116  2020/5/11     58     243     643\n",
      "117  2020/5/12     87     259     668\n",
      "118  2020/5/13     55     245     687\n",
      "(840, 4)\n"
     ]
    }
   ],
   "source": [
    "## Confirm Data is looking good\n",
    "print(df2.head())\n",
    "print(df2.shape)"
   ]
  }
 ],
 "metadata": {
  "kernelspec": {
   "display_name": "Python 3 (ipykernel)",
   "language": "python",
   "name": "python3"
  },
  "language_info": {
   "codemirror_mode": {
    "name": "ipython",
    "version": 3
   },
   "file_extension": ".py",
   "mimetype": "text/x-python",
   "name": "python",
   "nbconvert_exporter": "python",
   "pygments_lexer": "ipython3",
   "version": "3.10.5"
  }
 },
 "nbformat": 4,
 "nbformat_minor": 5
}
